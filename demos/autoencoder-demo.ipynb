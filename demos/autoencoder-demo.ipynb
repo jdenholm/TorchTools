{
 "cells": [
  {
   "attachments": {},
   "cell_type": "markdown",
   "metadata": {},
   "source": [
    "# AutoEncoder2d Demo"
   ]
  },
  {
   "attachments": {},
   "cell_type": "markdown",
   "metadata": {},
   "source": [
    "To use this demo, create the conda env defined in ``requirements-dev.conda.yaml``. To demonstrate ``torch_tools.AutoEncoder2d``, we use it to encode and decode MNIST images."
   ]
  },
  {
   "cell_type": "code",
   "execution_count": 1,
   "metadata": {},
   "outputs": [
    {
     "name": "stdout",
     "output_type": "stream",
     "text": [
      "There are 60000 training items.\n"
     ]
    }
   ],
   "source": [
    "from torchvision.datasets import MNIST\n",
    "from torchvision.transforms import Compose, ToTensor, RandomRotation\n",
    "from torchvision.transforms import ColorJitter\n",
    "\n",
    "from torch.utils.data import DataLoader\n",
    "\n",
    "batch_size = 8\n",
    "\n",
    "\n",
    "training_tfms = Compose(\n",
    "    [\n",
    "        ToTensor(),\n",
    "        RandomRotation(180),\n",
    "        ColorJitter(brightness=0.3, contrast=0.3, saturation=0.3, hue=0.3),\n",
    "    ]\n",
    ")\n",
    "valid_tfms = Compose([ToTensor()])\n",
    "\n",
    "\n",
    "train_set = MNIST(\n",
    "    root=\"/home/jim/storage/mnist/\",\n",
    "    train=True,\n",
    "    download=True,\n",
    "    transform=training_tfms,\n",
    ")\n",
    "\n",
    "print(f\"There are {len(train_set)} training items.\")\n",
    "train_loader = DataLoader(train_set, shuffle=True, batch_size=batch_size)"
   ]
  },
  {
   "attachments": {},
   "cell_type": "markdown",
   "metadata": {},
   "source": [
    "In this demo, we want bother with a validation loop during training, and will just use the validation set to do some inference at the end. Let's instantiate the model."
   ]
  },
  {
   "cell_type": "code",
   "execution_count": 2,
   "metadata": {},
   "outputs": [
    {
     "name": "stdout",
     "output_type": "stream",
     "text": [
      "AutoEncoder2d(\n",
      "  (encoder): Encoder2d(\n",
      "    (0): ConvResBlock(\n",
      "      (0): ConvBlock(\n",
      "        (0): Conv2d(1, 64, kernel_size=(3, 3), stride=(1, 1), padding=(1, 1))\n",
      "        (1): BatchNorm2d(64, eps=1e-05, momentum=0.1, affine=True, track_running_stats=True)\n",
      "        (2): LeakyReLU(negative_slope=0.1)\n",
      "      )\n",
      "      (1): ResidualBlock(\n",
      "        (first_conv): ConvBlock(\n",
      "          (0): Conv2d(64, 64, kernel_size=(3, 3), stride=(1, 1), padding=(1, 1), bias=False)\n",
      "          (1): BatchNorm2d(64, eps=1e-05, momentum=0.1, affine=True, track_running_stats=True)\n",
      "          (2): LeakyReLU(negative_slope=0.0)\n",
      "        )\n",
      "        (second_conv): ConvBlock(\n",
      "          (0): Conv2d(64, 64, kernel_size=(3, 3), stride=(1, 1), padding=(1, 1), bias=False)\n",
      "          (1): BatchNorm2d(64, eps=1e-05, momentum=0.1, affine=True, track_running_stats=True)\n",
      "        )\n",
      "        (relu): ReLU()\n",
      "      )\n",
      "    )\n",
      "    (1): DownBlock(\n",
      "      (0): MaxPool2d(kernel_size=2, stride=2, padding=0, dilation=1, ceil_mode=False)\n",
      "      (1): ConvResBlock(\n",
      "        (0): ConvBlock(\n",
      "          (0): Conv2d(64, 128, kernel_size=(3, 3), stride=(1, 1), padding=(1, 1))\n",
      "          (1): BatchNorm2d(128, eps=1e-05, momentum=0.1, affine=True, track_running_stats=True)\n",
      "          (2): LeakyReLU(negative_slope=0.1)\n",
      "        )\n",
      "        (1): ResidualBlock(\n",
      "          (first_conv): ConvBlock(\n",
      "            (0): Conv2d(128, 128, kernel_size=(3, 3), stride=(1, 1), padding=(1, 1), bias=False)\n",
      "            (1): BatchNorm2d(128, eps=1e-05, momentum=0.1, affine=True, track_running_stats=True)\n",
      "            (2): LeakyReLU(negative_slope=0.0)\n",
      "          )\n",
      "          (second_conv): ConvBlock(\n",
      "            (0): Conv2d(128, 128, kernel_size=(3, 3), stride=(1, 1), padding=(1, 1), bias=False)\n",
      "            (1): BatchNorm2d(128, eps=1e-05, momentum=0.1, affine=True, track_running_stats=True)\n",
      "          )\n",
      "          (relu): ReLU()\n",
      "        )\n",
      "      )\n",
      "    )\n",
      "    (2): DownBlock(\n",
      "      (0): MaxPool2d(kernel_size=2, stride=2, padding=0, dilation=1, ceil_mode=False)\n",
      "      (1): ConvResBlock(\n",
      "        (0): ConvBlock(\n",
      "          (0): Conv2d(128, 256, kernel_size=(3, 3), stride=(1, 1), padding=(1, 1))\n",
      "          (1): BatchNorm2d(256, eps=1e-05, momentum=0.1, affine=True, track_running_stats=True)\n",
      "          (2): LeakyReLU(negative_slope=0.1)\n",
      "        )\n",
      "        (1): ResidualBlock(\n",
      "          (first_conv): ConvBlock(\n",
      "            (0): Conv2d(256, 256, kernel_size=(3, 3), stride=(1, 1), padding=(1, 1), bias=False)\n",
      "            (1): BatchNorm2d(256, eps=1e-05, momentum=0.1, affine=True, track_running_stats=True)\n",
      "            (2): LeakyReLU(negative_slope=0.0)\n",
      "          )\n",
      "          (second_conv): ConvBlock(\n",
      "            (0): Conv2d(256, 256, kernel_size=(3, 3), stride=(1, 1), padding=(1, 1), bias=False)\n",
      "            (1): BatchNorm2d(256, eps=1e-05, momentum=0.1, affine=True, track_running_stats=True)\n",
      "          )\n",
      "          (relu): ReLU()\n",
      "        )\n",
      "      )\n",
      "    )\n",
      "  )\n",
      "  (decoder): Decoder2d(\n",
      "    (0): UpBlock(\n",
      "      (0): ConvTranspose2d(256, 256, kernel_size=(2, 2), stride=(2, 2))\n",
      "      (1): ConvResBlock(\n",
      "        (0): ConvBlock(\n",
      "          (0): Conv2d(256, 128, kernel_size=(3, 3), stride=(1, 1), padding=(1, 1))\n",
      "          (1): BatchNorm2d(128, eps=1e-05, momentum=0.1, affine=True, track_running_stats=True)\n",
      "          (2): LeakyReLU(negative_slope=0.1)\n",
      "        )\n",
      "        (1): ResidualBlock(\n",
      "          (first_conv): ConvBlock(\n",
      "            (0): Conv2d(128, 128, kernel_size=(3, 3), stride=(1, 1), padding=(1, 1), bias=False)\n",
      "            (1): BatchNorm2d(128, eps=1e-05, momentum=0.1, affine=True, track_running_stats=True)\n",
      "            (2): LeakyReLU(negative_slope=0.0)\n",
      "          )\n",
      "          (second_conv): ConvBlock(\n",
      "            (0): Conv2d(128, 128, kernel_size=(3, 3), stride=(1, 1), padding=(1, 1), bias=False)\n",
      "            (1): BatchNorm2d(128, eps=1e-05, momentum=0.1, affine=True, track_running_stats=True)\n",
      "          )\n",
      "          (relu): ReLU()\n",
      "        )\n",
      "      )\n",
      "    )\n",
      "    (1): UpBlock(\n",
      "      (0): ConvTranspose2d(128, 128, kernel_size=(2, 2), stride=(2, 2))\n",
      "      (1): ConvResBlock(\n",
      "        (0): ConvBlock(\n",
      "          (0): Conv2d(128, 64, kernel_size=(3, 3), stride=(1, 1), padding=(1, 1))\n",
      "          (1): BatchNorm2d(64, eps=1e-05, momentum=0.1, affine=True, track_running_stats=True)\n",
      "          (2): LeakyReLU(negative_slope=0.1)\n",
      "        )\n",
      "        (1): ResidualBlock(\n",
      "          (first_conv): ConvBlock(\n",
      "            (0): Conv2d(64, 64, kernel_size=(3, 3), stride=(1, 1), padding=(1, 1), bias=False)\n",
      "            (1): BatchNorm2d(64, eps=1e-05, momentum=0.1, affine=True, track_running_stats=True)\n",
      "            (2): LeakyReLU(negative_slope=0.0)\n",
      "          )\n",
      "          (second_conv): ConvBlock(\n",
      "            (0): Conv2d(64, 64, kernel_size=(3, 3), stride=(1, 1), padding=(1, 1), bias=False)\n",
      "            (1): BatchNorm2d(64, eps=1e-05, momentum=0.1, affine=True, track_running_stats=True)\n",
      "          )\n",
      "          (relu): ReLU()\n",
      "        )\n",
      "      )\n",
      "    )\n",
      "    (2): Conv2d(64, 1, kernel_size=(1, 1), stride=(1, 1))\n",
      "  )\n",
      ")\n"
     ]
    }
   ],
   "source": [
    "from torch.cuda import is_available\n",
    "from torch_tools import AutoEncoder2d\n",
    "\n",
    "DEVICE = \"cuda\" if is_available() else \"cpu\"\n",
    "\n",
    "model = AutoEncoder2d(in_chans=1, out_chans=1, num_layers=3, block_style=\"conv_res\",).to(DEVICE)\n",
    "\n",
    "print(model)"
   ]
  },
  {
   "attachments": {},
   "cell_type": "markdown",
   "metadata": {},
   "source": [
    "Now, we set up the optimiser and loss function."
   ]
  },
  {
   "cell_type": "code",
   "execution_count": 3,
   "metadata": {},
   "outputs": [],
   "source": [
    "from torch.optim import Adam\n",
    "from torch.nn import L1Loss\n",
    "\n",
    "optimiser = Adam(model.parameters(), lr=1e-4)\n",
    "\n",
    "loss_func = L1Loss()"
   ]
  },
  {
   "attachments": {},
   "cell_type": "markdown",
   "metadata": {},
   "source": [
    "And now we write our training loop."
   ]
  },
  {
   "cell_type": "code",
   "execution_count": 4,
   "metadata": {},
   "outputs": [],
   "source": [
    "from torch.nn import Module\n",
    "\n",
    "\n",
    "def train_one_epoch(\n",
    "    model: Module,\n",
    "    data_loader: DataLoader,\n",
    "    optimiser: Adam,\n",
    "    loss_func: L1Loss,\n",
    ") -> float:\n",
    "    \"\"\"Train ``model`` for a single epoch.\n",
    "\n",
    "    Parameters\n",
    "    ----------\n",
    "    model : Module\n",
    "        AutoEncoder model.\n",
    "    data_loader : DataLoader\n",
    "        Training data loader.\n",
    "    optimiser : Adam\n",
    "        Adam optimiser.\n",
    "    loss_func : L1Loss\n",
    "        The L1 loss function.\n",
    "\n",
    "    Parameters\n",
    "    ----------\n",
    "    float\n",
    "        Mean loss per item.\n",
    "\n",
    "    \"\"\"\n",
    "    model.train()\n",
    "    running_loss = 0.0\n",
    "    for batch, _ in data_loader:\n",
    "        optimiser.zero_grad()\n",
    "\n",
    "        batch = batch.to(DEVICE)\n",
    "\n",
    "        preds = model(batch).tanh()\n",
    "\n",
    "        loss = loss_func(preds, batch)\n",
    "\n",
    "        loss.backward()\n",
    "\n",
    "        optimiser.step()\n",
    "\n",
    "        running_loss += loss.item()\n",
    "    return running_loss / len(data_loader)"
   ]
  },
  {
   "attachments": {},
   "cell_type": "markdown",
   "metadata": {},
   "source": [
    "Now we can train the model."
   ]
  },
  {
   "cell_type": "code",
   "execution_count": 5,
   "metadata": {},
   "outputs": [
    {
     "name": "stdout",
     "output_type": "stream",
     "text": [
      "Epoch 0 time: 40.645411 seconds\n",
      "Epoch 1 time: 40.128466 seconds\n",
      "Epoch 2 time: 40.203931 seconds\n",
      "Epoch 3 time: 39.806797 seconds\n",
      "Epoch 4 time: 39.876363 seconds\n",
      "Epoch 5 time: 39.871299 seconds\n",
      "Epoch 6 time: 39.860227 seconds\n",
      "Epoch 7 time: 40.074650 seconds\n",
      "Epoch 8 time: 39.936637 seconds\n",
      "Epoch 9 time: 40.255790 seconds\n"
     ]
    }
   ],
   "source": [
    "from time import perf_counter\n",
    "\n",
    "epochs = 10\n",
    "\n",
    "metrics = {\"loss\": []}\n",
    "\n",
    "for epoch in range(epochs):\n",
    "\n",
    "    start_time = perf_counter()\n",
    "\n",
    "    metrics[\"loss\"].append(\n",
    "        train_one_epoch(\n",
    "            model,\n",
    "            train_loader,\n",
    "            optimiser,\n",
    "            loss_func,\n",
    "        )\n",
    "    )\n",
    "\n",
    "    stop_time = perf_counter()\n",
    "\n",
    "    print(f\"Epoch {epoch} time: {stop_time - start_time:.6f} seconds\")"
   ]
  },
  {
   "cell_type": "code",
   "execution_count": 6,
   "metadata": {},
   "outputs": [
    {
     "data": {
      "text/plain": [
       "Text(0, 0.5, 'Loss')"
      ]
     },
     "execution_count": 6,
     "metadata": {},
     "output_type": "execute_result"
    },
    {
     "data": {
      "image/png": "[encoded data removed]",
      "text/plain": [
       "<Figure size 640x480 with 1 Axes>"
      ]
     },
     "metadata": {},
     "output_type": "display_data"
    }
   ],
   "source": [
    "import matplotlib.pyplot as plt\n",
    "\n",
    "figure, axes = plt.subplots(1, 1)\n",
    "axes.plot(metrics[\"loss\"], \"-o\")\n",
    "\n",
    "axes.set_ylim(bottom=0.0)\n",
    "axes.set_xlim(left=0.0, right=epochs)\n",
    "\n",
    "axes.set_xlabel(\"Epoch\")\n",
    "axes.set_ylabel(\"Loss\")"
   ]
  },
  {
   "attachments": {},
   "cell_type": "markdown",
   "metadata": {},
   "source": [
    "Now we can take a look at some predictions from the validation loader.\n"
   ]
  },
  {
   "cell_type": "code",
   "execution_count": 7,
   "metadata": {},
   "outputs": [
    {
     "data": {
      "image/png": "[encoded data removed]",
      "text/plain": [
       "<Figure size 1600x400 with 2 Axes>"
      ]
     },
     "metadata": {},
     "output_type": "display_data"
    }
   ],
   "source": [
    "from torch import no_grad\n",
    "from torchvision.utils import make_grid\n",
    "\n",
    "with no_grad():\n",
    "    model.eval()\n",
    "    for batch, target in train_loader:\n",
    "        preds = model(batch.to(DEVICE)).tanh().clip(0.0, 1.0)\n",
    "        break\n",
    "\n",
    "batch_grid = make_grid(batch.cpu(), nrow=len(batch), ncol=1).permute(1, 2, 0)\n",
    "pred_grid = make_grid(preds.detach().cpu(), nrow=len(batch), ncol=1).permute(1, 2, 0)\n",
    "\n",
    "\n",
    "figure, axes = plt.subplots(2, 1, figsize=(len(batch) * 2, 4))\n",
    "axes[0].imshow(batch_grid)\n",
    "axes[1].imshow(pred_grid)\n",
    "\n",
    "for axis in axes.ravel():\n",
    "    axis.set_xticks([])\n",
    "    axis.set_yticks([])\n",
    "\n",
    "axes[0].set_ylabel(\"Original\")\n",
    "axes[1].set_ylabel(\"Prediction\")\n",
    "\n",
    "figure.tight_layout(pad=0.01)"
   ]
  }
 ],
 "metadata": {
  "kernelspec": {
   "display_name": "torch-tools-demo",
   "language": "python",
   "name": "python3"
  },
  "language_info": {
   "codemirror_mode": {
    "name": "ipython",
    "version": 3
   },
   "file_extension": ".py",
   "mimetype": "text/x-python",
   "name": "python",
   "nbconvert_exporter": "python",
   "pygments_lexer": "ipython3",
   "version": "3.11.5"
  },
  "orig_nbformat": 4
 },
 "nbformat": 4,
 "nbformat_minor": 2
}
