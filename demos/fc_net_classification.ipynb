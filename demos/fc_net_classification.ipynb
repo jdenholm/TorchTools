{
 "cells": [
  {
   "attachments": {},
   "cell_type": "markdown",
   "metadata": {},
   "source": [
    "# ``FCNet`` classification demonstration"
   ]
  },
  {
   "attachments": {},
   "cell_type": "markdown",
   "metadata": {},
   "source": [
    "## Getting started with this demo\n",
    "\n",
    "To get started with this demo, please create an environment based on ``requirements-dev.conda.yaml``. See the ``README`` for instructions."
   ]
  },
  {
   "attachments": {},
   "cell_type": "markdown",
   "metadata": {},
   "source": [
    "The ``torch_tools.FCNet`` model can be used for classification or regression.\n",
    "\n",
    "Here we will use it for a classification problem. We need:\n",
    "\n",
    "* Some data:\n",
    "    * For this example, we'll classify species of penguins based on certain physical features.\n",
    "* Some data loading utilities:\n",
    "    * We need to load the data using a ``Dataset`` and ``DataLoader``.\n",
    "* A model:\n",
    "    * We will instantiate the model shortly.\n",
    "* A loss function.\n",
    "* An optimiser to fit the model with."
   ]
  },
  {
   "attachments": {},
   "cell_type": "markdown",
   "metadata": {},
   "source": [
    "## Classification example\n"
   ]
  },
  {
   "attachments": {},
   "cell_type": "markdown",
   "metadata": {},
   "source": [
    "First, we load the penguin datasets, which is conveniently available as a ``pandas.DataFrame``."
   ]
  },
  {
   "cell_type": "code",
   "execution_count": 44,
   "metadata": {},
   "outputs": [
    {
     "name": "stdout",
     "output_type": "stream",
     "text": [
      "       species     island  bill_length_mm  bill_depth_mm  flipper_length_mm  \\\n",
      "0       Adelie  Torgersen            39.1           18.7              181.0   \n",
      "1       Adelie  Torgersen            39.5           17.4              186.0   \n",
      "2       Adelie  Torgersen            40.3           18.0              195.0   \n",
      "3       Adelie  Torgersen             NaN            NaN                NaN   \n",
      "4       Adelie  Torgersen            36.7           19.3              193.0   \n",
      "..         ...        ...             ...            ...                ...   \n",
      "339  Chinstrap      Dream            55.8           19.8              207.0   \n",
      "340  Chinstrap      Dream            43.5           18.1              202.0   \n",
      "341  Chinstrap      Dream            49.6           18.2              193.0   \n",
      "342  Chinstrap      Dream            50.8           19.0              210.0   \n",
      "343  Chinstrap      Dream            50.2           18.7              198.0   \n",
      "\n",
      "     body_mass_g     sex  year  \n",
      "0         3750.0    male  2007  \n",
      "1         3800.0  female  2007  \n",
      "2         3250.0  female  2007  \n",
      "3            NaN     NaN  2007  \n",
      "4         3450.0  female  2007  \n",
      "..           ...     ...   ...  \n",
      "339       4000.0    male  2009  \n",
      "340       3400.0  female  2009  \n",
      "341       3775.0    male  2009  \n",
      "342       4100.0    male  2009  \n",
      "343       3775.0  female  2009  \n",
      "\n",
      "[344 rows x 8 columns]\n"
     ]
    }
   ],
   "source": [
    "from palmerpenguins import load_penguins\n",
    "\n",
    "all_data = load_penguins()\n",
    "\n",
    "print(all_data)"
   ]
  },
  {
   "cell_type": "markdown",
   "metadata": {},
   "source": [
    "We remove any row where data are missing."
   ]
  },
  {
   "cell_type": "code",
   "execution_count": 45,
   "metadata": {},
   "outputs": [
    {
     "name": "stdout",
     "output_type": "stream",
     "text": [
      "       species     island  bill_length_mm  bill_depth_mm  flipper_length_mm  \\\n",
      "0       Adelie  Torgersen            39.1           18.7              181.0   \n",
      "1       Adelie  Torgersen            39.5           17.4              186.0   \n",
      "2       Adelie  Torgersen            40.3           18.0              195.0   \n",
      "3       Adelie  Torgersen            36.7           19.3              193.0   \n",
      "4       Adelie  Torgersen            39.3           20.6              190.0   \n",
      "..         ...        ...             ...            ...                ...   \n",
      "328  Chinstrap      Dream            55.8           19.8              207.0   \n",
      "329  Chinstrap      Dream            43.5           18.1              202.0   \n",
      "330  Chinstrap      Dream            49.6           18.2              193.0   \n",
      "331  Chinstrap      Dream            50.8           19.0              210.0   \n",
      "332  Chinstrap      Dream            50.2           18.7              198.0   \n",
      "\n",
      "     body_mass_g     sex  year  \n",
      "0         3750.0    male  2007  \n",
      "1         3800.0  female  2007  \n",
      "2         3250.0  female  2007  \n",
      "3         3450.0  female  2007  \n",
      "4         3650.0    male  2007  \n",
      "..           ...     ...   ...  \n",
      "328       4000.0    male  2009  \n",
      "329       3400.0  female  2009  \n",
      "330       3775.0    male  2009  \n",
      "331       4100.0    male  2009  \n",
      "332       3775.0  female  2009  \n",
      "\n",
      "[333 rows x 8 columns]\n"
     ]
    }
   ],
   "source": [
    "where_missing = all_data.isna().any(axis=1)\n",
    "\n",
    "all_data = all_data.loc[~where_missing].reset_index(drop=True)\n",
    "print(all_data)"
   ]
  },
  {
   "cell_type": "markdown",
   "metadata": {},
   "source": [
    "Now let's decide on which features to use for classification."
   ]
  },
  {
   "cell_type": "code",
   "execution_count": 46,
   "metadata": {},
   "outputs": [
    {
     "name": "stdout",
     "output_type": "stream",
     "text": [
      "Index(['species', 'island', 'bill_length_mm', 'bill_depth_mm',\n",
      "       'flipper_length_mm', 'body_mass_g', 'sex', 'year'],\n",
      "      dtype='object')\n",
      "['Adelie' 'Gentoo' 'Chinstrap']\n"
     ]
    }
   ],
   "source": [
    "print(all_data.keys())\n",
    "print(all_data.species.unique())"
   ]
  },
  {
   "cell_type": "markdown",
   "metadata": {},
   "source": [
    "To classify the penguins, we'll use bill length, bill depth, flipper length, body mass and year."
   ]
  },
  {
   "cell_type": "code",
   "execution_count": 47,
   "metadata": {},
   "outputs": [
    {
     "name": "stdout",
     "output_type": "stream",
     "text": [
      "     bill_length_mm  bill_depth_mm  flipper_length_mm  body_mass_g  sex  \\\n",
      "0              39.1           18.7              181.0       3750.0    0   \n",
      "1              39.5           17.4              186.0       3800.0    1   \n",
      "2              40.3           18.0              195.0       3250.0    1   \n",
      "3              36.7           19.3              193.0       3450.0    1   \n",
      "4              39.3           20.6              190.0       3650.0    0   \n",
      "..              ...            ...                ...          ...  ...   \n",
      "328            55.8           19.8              207.0       4000.0    0   \n",
      "329            43.5           18.1              202.0       3400.0    1   \n",
      "330            49.6           18.2              193.0       3775.0    0   \n",
      "331            50.8           19.0              210.0       4100.0    0   \n",
      "332            50.2           18.7              198.0       3775.0    1   \n",
      "\n",
      "     species  \n",
      "0          0  \n",
      "1          0  \n",
      "2          0  \n",
      "3          0  \n",
      "4          0  \n",
      "..       ...  \n",
      "328        1  \n",
      "329        1  \n",
      "330        1  \n",
      "331        1  \n",
      "332        1  \n",
      "\n",
      "[333 rows x 6 columns]\n"
     ]
    }
   ],
   "source": [
    "input_keys = [\n",
    "    \"bill_length_mm\",\n",
    "    \"bill_depth_mm\",\n",
    "    \"flipper_length_mm\",\n",
    "    \"body_mass_g\",\n",
    "    \"sex\",\n",
    "]\n",
    "\n",
    "target_keys = [\"species\"]\n",
    "\n",
    "\n",
    "all_data = all_data[input_keys + target_keys]\n",
    "\n",
    "species = [\"Adelie\", \"Chinstrap\", \"Gentoo\"]\n",
    "all_data.species = all_data.species.apply(lambda x: species.index(x))\n",
    "\n",
    "# We also make the sex field binary\n",
    "all_data.sex = (all_data.sex == \"female\").astype(int)\n",
    "\n",
    "print(all_data)"
   ]
  },
  {
   "cell_type": "markdown",
   "metadata": {},
   "source": [
    "Now we obtain training and validation splits"
   ]
  },
  {
   "cell_type": "code",
   "execution_count": 48,
   "metadata": {},
   "outputs": [],
   "source": [
    "valid_split = all_data.groupby(by=[\"species\", \"sex\"]).sample(\n",
    "    n=10,\n",
    "    random_state=123,\n",
    ")\n",
    "\n",
    "train_split = all_data.loc[~all_data.index.isin(valid_split.index)]"
   ]
  },
  {
   "attachments": {},
   "cell_type": "markdown",
   "metadata": {},
   "source": [
    "The training and validation datasets are pandas ``DataFrame`` objects, holding various physical characteristics of the tumours, along with their classifications."
   ]
  },
  {
   "cell_type": "code",
   "execution_count": 49,
   "metadata": {},
   "outputs": [
    {
     "name": "stdout",
     "output_type": "stream",
     "text": [
      "     bill_length_mm  bill_depth_mm  flipper_length_mm  body_mass_g  sex  \\\n",
      "0              39.1           18.7              181.0       3750.0    0   \n",
      "1              39.5           17.4              186.0       3800.0    1   \n",
      "2              40.3           18.0              195.0       3250.0    1   \n",
      "4              39.3           20.6              190.0       3650.0    0   \n",
      "5              38.9           17.8              181.0       3625.0    1   \n",
      "..              ...            ...                ...          ...  ...   \n",
      "324            45.6           19.4              194.0       3525.0    1   \n",
      "325            51.9           19.5              206.0       3950.0    0   \n",
      "327            45.7           17.0              195.0       3650.0    1   \n",
      "330            49.6           18.2              193.0       3775.0    0   \n",
      "331            50.8           19.0              210.0       4100.0    0   \n",
      "\n",
      "     species  \n",
      "0          0  \n",
      "1          0  \n",
      "2          0  \n",
      "4          0  \n",
      "5          0  \n",
      "..       ...  \n",
      "324        1  \n",
      "325        1  \n",
      "327        1  \n",
      "330        1  \n",
      "331        1  \n",
      "\n",
      "[273 rows x 6 columns]\n",
      "     bill_length_mm  bill_depth_mm  flipper_length_mm  body_mass_g  sex  \\\n",
      "145            41.5           18.5              201.0       4000.0    0   \n",
      "107            42.2           19.5              197.0       4275.0    0   \n",
      "119            40.6           19.0              199.0       4000.0    0   \n",
      "105            45.6           20.3              191.0       4600.0    0   \n",
      "103            43.2           19.0              197.0       4775.0    0   \n",
      "127            37.5           18.5              199.0       4475.0    0   \n",
      "137            40.7           17.0              190.0       3725.0    0   \n",
      "47             42.0           19.5              200.0       4050.0    0   \n",
      "18             38.2           18.1              185.0       3950.0    0   \n",
      "9              34.6           21.1              198.0       4400.0    0   \n",
      "84             35.7           18.0              202.0       3550.0    1   \n",
      "141            36.6           18.4              184.0       3475.0    1   \n",
      "3              36.7           19.3              193.0       3450.0    1   \n",
      "48             34.5           18.1              187.0       2900.0    1   \n",
      "35             36.5           18.0              182.0       3150.0    1   \n",
      "124            38.5           17.9              190.0       3325.0    1   \n",
      "78             37.3           17.8              191.0       3350.0    1   \n",
      "83             38.9           18.8              190.0       3600.0    1   \n",
      "94             35.0           17.9              192.0       3725.0    1   \n",
      "86             34.0           17.1              185.0       3400.0    1   \n",
      "302            52.0           20.7              210.0       4800.0    0   \n",
      "266            50.0           19.5              196.0       3900.0    0   \n",
      "288            50.6           19.4              193.0       3800.0    0   \n",
      "274            51.3           19.9              198.0       3700.0    0   \n",
      "328            55.8           19.8              207.0       4000.0    0   \n",
      "281            50.3           20.0              197.0       3300.0    0   \n",
      "298            51.0           18.8              203.0       4100.0    0   \n",
      "322            49.3           19.9              203.0       4050.0    0   \n",
      "278            52.0           18.1              201.0       4050.0    0   \n",
      "318            50.7           19.7              203.0       4050.0    0   \n",
      "277            47.0           17.3              185.0       3700.0    1   \n",
      "329            43.5           18.1              202.0       3400.0    1   \n",
      "279            45.9           17.1              190.0       3575.0    1   \n",
      "326            46.8           16.5              189.0       3650.0    1   \n",
      "265            46.5           17.9              192.0       3500.0    1   \n",
      "309            50.9           17.9              196.0       3675.0    1   \n",
      "301            47.6           18.3              195.0       3850.0    1   \n",
      "295            40.9           16.6              187.0       3200.0    1   \n",
      "308            45.5           17.0              196.0       3500.0    1   \n",
      "332            50.2           18.7              198.0       3775.0    1   \n",
      "247            49.1           15.0              228.0       5500.0    0   \n",
      "252            48.1           15.1              209.0       5500.0    0   \n",
      "208            54.3           15.7              231.0       5650.0    0   \n",
      "219            48.6           16.0              230.0       5800.0    0   \n",
      "198            50.1           15.0              225.0       5000.0    0   \n",
      "254            49.8           15.9              229.0       5950.0    0   \n",
      "239            50.8           15.7              226.0       5200.0    0   \n",
      "147            50.0           16.3              230.0       5700.0    0   \n",
      "200            45.0           15.4              220.0       5050.0    0   \n",
      "172            47.8           15.0              215.0       5650.0    0   \n",
      "168            46.5           14.5              213.0       4400.0    1   \n",
      "177            45.1           14.5              207.0       5050.0    1   \n",
      "152            45.4           14.6              211.0       4800.0    1   \n",
      "212            43.5           14.2              220.0       4700.0    1   \n",
      "154            43.3           13.4              209.0       4400.0    1   \n",
      "162            42.0           13.5              210.0       4150.0    1   \n",
      "164            46.2           14.5              209.0       4800.0    1   \n",
      "187            45.3           13.7              210.0       4300.0    1   \n",
      "261            46.8           14.3              215.0       4850.0    1   \n",
      "183            44.0           13.6              208.0       4350.0    1   \n",
      "\n",
      "     species  \n",
      "145        0  \n",
      "107        0  \n",
      "119        0  \n",
      "105        0  \n",
      "103        0  \n",
      "127        0  \n",
      "137        0  \n",
      "47         0  \n",
      "18         0  \n",
      "9          0  \n",
      "84         0  \n",
      "141        0  \n",
      "3          0  \n",
      "48         0  \n",
      "35         0  \n",
      "124        0  \n",
      "78         0  \n",
      "83         0  \n",
      "94         0  \n",
      "86         0  \n",
      "302        1  \n",
      "266        1  \n",
      "288        1  \n",
      "274        1  \n",
      "328        1  \n",
      "281        1  \n",
      "298        1  \n",
      "322        1  \n",
      "278        1  \n",
      "318        1  \n",
      "277        1  \n",
      "329        1  \n",
      "279        1  \n",
      "326        1  \n",
      "265        1  \n",
      "309        1  \n",
      "301        1  \n",
      "295        1  \n",
      "308        1  \n",
      "332        1  \n",
      "247        2  \n",
      "252        2  \n",
      "208        2  \n",
      "219        2  \n",
      "198        2  \n",
      "254        2  \n",
      "239        2  \n",
      "147        2  \n",
      "200        2  \n",
      "172        2  \n",
      "168        2  \n",
      "177        2  \n",
      "152        2  \n",
      "212        2  \n",
      "154        2  \n",
      "162        2  \n",
      "164        2  \n",
      "187        2  \n",
      "261        2  \n",
      "183        2  \n"
     ]
    }
   ],
   "source": [
    "print(train_split)\n",
    "print(valid_split)"
   ]
  },
  {
   "attachments": {},
   "cell_type": "markdown",
   "metadata": {},
   "source": [
    "Now we have downloaded the breast cancer dataset from scikit-learn and split the data into a training and validation set. Conventially, one should split the data into a training, validation and testing set, but since this is only a simple example, with a very small dataset, we only use a training and a validation set."
   ]
  },
  {
   "attachments": {},
   "cell_type": "markdown",
   "metadata": {},
   "source": [
    "As a matter of convenience, let's grab a list of the keys for accessing the data and targets separately."
   ]
  },
  {
   "attachments": {},
   "cell_type": "markdown",
   "metadata": {},
   "source": [
    "Now, we create ``DataSet`` objects for the training and validation sets."
   ]
  },
  {
   "cell_type": "code",
   "execution_count": 50,
   "metadata": {},
   "outputs": [],
   "source": [
    "import torch\n",
    "\n",
    "torch.manual_seed(123)\n",
    "\n",
    "\n",
    "from torchvision.transforms import Compose\n",
    "\n",
    "from torch_tools import DataSet\n",
    "\n",
    "train_set = DataSet(\n",
    "    inputs=tuple(train_split[input_keys].to_numpy()),\n",
    "    targets=tuple(train_split[target_keys].to_numpy()),\n",
    "    target_tfms=Compose([lambda x: torch.eye(3)[x].squeeze()]),\n",
    "    input_tfms=Compose([torch.from_numpy]),\n",
    "    mixup=True,\n",
    ")\n",
    "\n",
    "valid_set = DataSet(\n",
    "    inputs=tuple(valid_split[input_keys].to_numpy()),\n",
    "    targets=tuple(valid_split[target_keys].to_numpy()),\n",
    "    target_tfms=Compose([lambda x: torch.eye(3)[x].squeeze()]),\n",
    "    input_tfms=Compose([torch.from_numpy]),\n",
    ")"
   ]
  },
  {
   "attachments": {},
   "cell_type": "markdown",
   "metadata": {},
   "source": [
    "The ``DataSet`` objects are iterables which yield input–target pairs (as ``torch.Tensor``s):"
   ]
  },
  {
   "cell_type": "code",
   "execution_count": 51,
   "metadata": {},
   "outputs": [
    {
     "name": "stdout",
     "output_type": "stream",
     "text": [
      "torch.Size([5]) torch.Size([3])\n",
      "torch.Size([5]) torch.Size([3])\n",
      "torch.Size([5]) torch.Size([3])\n",
      "torch.Size([5]) torch.Size([3])\n",
      "torch.Size([5]) torch.Size([3])\n",
      "torch.Size([5]) torch.Size([3])\n",
      "torch.Size([5]) torch.Size([3])\n",
      "torch.Size([5]) torch.Size([3])\n",
      "torch.Size([5]) torch.Size([3])\n",
      "torch.Size([5]) torch.Size([3])\n",
      "torch.Size([5]) torch.Size([3])\n",
      "torch.Size([5]) torch.Size([3])\n",
      "torch.Size([5]) torch.Size([3])\n",
      "torch.Size([5]) torch.Size([3])\n",
      "torch.Size([5]) torch.Size([3])\n",
      "torch.Size([5]) torch.Size([3])\n",
      "torch.Size([5]) torch.Size([3])\n",
      "torch.Size([5]) torch.Size([3])\n",
      "torch.Size([5]) torch.Size([3])\n",
      "torch.Size([5]) torch.Size([3])\n",
      "torch.Size([5]) torch.Size([3])\n",
      "torch.Size([5]) torch.Size([3])\n",
      "torch.Size([5]) torch.Size([3])\n",
      "torch.Size([5]) torch.Size([3])\n",
      "torch.Size([5]) torch.Size([3])\n",
      "torch.Size([5]) torch.Size([3])\n",
      "torch.Size([5]) torch.Size([3])\n",
      "torch.Size([5]) torch.Size([3])\n",
      "torch.Size([5]) torch.Size([3])\n",
      "torch.Size([5]) torch.Size([3])\n",
      "torch.Size([5]) torch.Size([3])\n",
      "torch.Size([5]) torch.Size([3])\n",
      "torch.Size([5]) torch.Size([3])\n",
      "torch.Size([5]) torch.Size([3])\n",
      "torch.Size([5]) torch.Size([3])\n",
      "torch.Size([5]) torch.Size([3])\n",
      "torch.Size([5]) torch.Size([3])\n",
      "torch.Size([5]) torch.Size([3])\n",
      "torch.Size([5]) torch.Size([3])\n",
      "torch.Size([5]) torch.Size([3])\n",
      "torch.Size([5]) torch.Size([3])\n",
      "torch.Size([5]) torch.Size([3])\n",
      "torch.Size([5]) torch.Size([3])\n",
      "torch.Size([5]) torch.Size([3])\n",
      "torch.Size([5]) torch.Size([3])\n",
      "torch.Size([5]) torch.Size([3])\n",
      "torch.Size([5]) torch.Size([3])\n",
      "torch.Size([5]) torch.Size([3])\n",
      "torch.Size([5]) torch.Size([3])\n",
      "torch.Size([5]) torch.Size([3])\n",
      "torch.Size([5]) torch.Size([3])\n",
      "torch.Size([5]) torch.Size([3])\n",
      "torch.Size([5]) torch.Size([3])\n",
      "torch.Size([5]) torch.Size([3])\n",
      "torch.Size([5]) torch.Size([3])\n",
      "torch.Size([5]) torch.Size([3])\n",
      "torch.Size([5]) torch.Size([3])\n",
      "torch.Size([5]) torch.Size([3])\n",
      "torch.Size([5]) torch.Size([3])\n",
      "torch.Size([5]) torch.Size([3])\n"
     ]
    }
   ],
   "source": [
    "for input_item, target in valid_set:\n",
    "    print(input_item.shape, target.shape)"
   ]
  },
  {
   "attachments": {},
   "cell_type": "markdown",
   "metadata": {},
   "source": [
    "While PyTorch ``Dataset``s generally return single input-target pairs, we normally supply data to neural networks in mini-batches. The PyTorch way to achieve this is use a ``DataLoader`` object."
   ]
  },
  {
   "cell_type": "code",
   "execution_count": 52,
   "metadata": {},
   "outputs": [
    {
     "name": "stdout",
     "output_type": "stream",
     "text": [
      "torch.Size([8, 5]) torch.Size([8, 3])\n",
      "torch.Size([8, 5]) torch.Size([8, 3])\n",
      "torch.Size([8, 5]) torch.Size([8, 3])\n",
      "torch.Size([8, 5]) torch.Size([8, 3])\n",
      "torch.Size([8, 5]) torch.Size([8, 3])\n",
      "torch.Size([8, 5]) torch.Size([8, 3])\n",
      "torch.Size([8, 5]) torch.Size([8, 3])\n",
      "torch.Size([4, 5]) torch.Size([4, 3])\n"
     ]
    }
   ],
   "source": [
    "from torch.utils.data import DataLoader\n",
    "\n",
    "batch_size = 8\n",
    "\n",
    "train_loader = DataLoader(\n",
    "    train_set,\n",
    "    shuffle=True,\n",
    "    batch_size=batch_size,\n",
    "    drop_last=True,\n",
    ")\n",
    "valid_loader = DataLoader(valid_set, shuffle=False, batch_size=batch_size)\n",
    "\n",
    "for batch, targets in valid_loader:\n",
    "    print(batch.shape, targets.shape)"
   ]
  },
  {
   "attachments": {},
   "cell_type": "markdown",
   "metadata": {},
   "source": [
    "Now we can that each input is a ``Tensor`` of shape ``(10, 5)`` because each input has 5 features and we use a batch size of ten. The targets are simply one-hot-encoded vectors giving the binary classification of each input item.\n",
    "\n",
    "Before we train the model. we need to decide whether we want to train the model on the GPU or the CPU. PyTorch has a way of managing this:"
   ]
  },
  {
   "cell_type": "code",
   "execution_count": 53,
   "metadata": {},
   "outputs": [
    {
     "name": "stdout",
     "output_type": "stream",
     "text": [
      "cuda\n"
     ]
    }
   ],
   "source": [
    "from torch.cuda import is_available\n",
    "\n",
    "DEVICE = \"cuda\" if is_available() else \"cpu\"\n",
    "print(DEVICE)"
   ]
  },
  {
   "attachments": {},
   "cell_type": "markdown",
   "metadata": {},
   "source": [
    "Now we have the data, we need a model, loss function and optimiser. Let's set these things up:\n",
    "\n",
    "- For our choice of model, we can use the ``torch_tools.FCNet`` model.\n",
    "- For the loss function, we choose the (fairly) standard binary-cross-entropy.\n",
    "  - See PyTorch's [BCELoss docs](https://pytorch.org/docs/stable/generated/torch.nn.BCELoss.html).\n",
    "- For our optimiser, we will use the (again fairly standard) Adam optimiser.\n",
    "  - See PyTorch's [Adam optimiser docs](https://pytorch.org/docs/stable/generated/torch.optim.Adam.html)."
   ]
  },
  {
   "cell_type": "code",
   "execution_count": 54,
   "metadata": {},
   "outputs": [
    {
     "name": "stdout",
     "output_type": "stream",
     "text": [
      "FCNet(\n",
      "  (0): InputBlock(\n",
      "    (0): BatchNorm1d(5, eps=1e-05, momentum=0.1, affine=True, track_running_stats=True)\n",
      "    (1): Dropout(p=0.1, inplace=False)\n",
      "  )\n",
      "  (1): DenseBlock(\n",
      "    (0): Linear(in_features=5, out_features=32, bias=True)\n",
      "    (1): BatchNorm1d(32, eps=1e-05, momentum=0.1, affine=True, track_running_stats=True)\n",
      "    (2): Dropout(p=0.25, inplace=False)\n",
      "    (3): LeakyReLU(negative_slope=0.1)\n",
      "  )\n",
      "  (2): DenseBlock(\n",
      "    (0): Linear(in_features=32, out_features=16, bias=True)\n",
      "    (1): BatchNorm1d(16, eps=1e-05, momentum=0.1, affine=True, track_running_stats=True)\n",
      "    (2): Dropout(p=0.25, inplace=False)\n",
      "    (3): LeakyReLU(negative_slope=0.1)\n",
      "  )\n",
      "  (3): DenseBlock(\n",
      "    (0): Linear(in_features=16, out_features=8, bias=True)\n",
      "    (1): BatchNorm1d(8, eps=1e-05, momentum=0.1, affine=True, track_running_stats=True)\n",
      "    (2): Dropout(p=0.25, inplace=False)\n",
      "    (3): LeakyReLU(negative_slope=0.1)\n",
      "  )\n",
      "  (4): DenseBlock(\n",
      "    (0): Linear(in_features=8, out_features=3, bias=True)\n",
      "  )\n",
      ")\n"
     ]
    }
   ],
   "source": [
    "from torch.nn import BCELoss\n",
    "from torch.optim import Adam\n",
    "\n",
    "from torch_tools import FCNet\n",
    "\n",
    "\n",
    "loss_func = BCELoss(reduction=\"sum\")\n",
    "\n",
    "model = FCNet(\n",
    "    in_feats=5,\n",
    "    out_feats=3,\n",
    "    hidden_sizes=(32, 16, 8),\n",
    "    input_dropout=0.1,\n",
    "    input_bnorm=True,\n",
    "    hidden_dropout=0.25,\n",
    ").to(DEVICE)\n",
    "print(model)\n",
    "\n",
    "\n",
    "optimiser = Adam(model.parameters(), lr=1e-4, weight_decay=1e-4)"
   ]
  },
  {
   "attachments": {},
   "cell_type": "markdown",
   "metadata": {},
   "source": [
    "Let's write functions for training and validating single epochs"
   ]
  },
  {
   "cell_type": "code",
   "execution_count": 55,
   "metadata": {},
   "outputs": [],
   "source": [
    "from torch.nn import Module\n",
    "from torch import no_grad\n",
    "\n",
    "\n",
    "def train_one_epoch(\n",
    "    model: Module,\n",
    "    loss_func: BCELoss,\n",
    "    optim: Adam,\n",
    "    train_loader: DataLoader,\n",
    "):\n",
    "    \"\"\"Train the model for a single epoch.\n",
    "\n",
    "    Parameters\n",
    "    ----------\n",
    "    model : Module\n",
    "        The model we want to train.\n",
    "    loss_func : BCELoss\n",
    "        Binary-cross-entropy loss function.\n",
    "    optim : Adam\n",
    "        Adam optimiser.\n",
    "    train_loader : DataLoader\n",
    "        Training dataloader.\n",
    "\n",
    "    Returns\n",
    "    -------\n",
    "    mean_loss: float\n",
    "        Mean loss per batch.\n",
    "    accuracy : float\n",
    "        Accuracy over the epoch.\n",
    "\n",
    "    \"\"\"\n",
    "    model.train()\n",
    "    running_loss = 0.0\n",
    "    correct = 0\n",
    "    for batch, targets in train_loader:\n",
    "        # Move the inputs and targets from the cpu to the gpu.\n",
    "        batch, targets = batch.float().to(DEVICE), targets.float().to(DEVICE)\n",
    "        # Zero the gradients.\n",
    "        optim.zero_grad()\n",
    "        # Predict using the batch of inputs.\n",
    "        prediction = model(batch).softmax(dim=1)\n",
    "        # Compute the loss\n",
    "        loss = loss_func(prediction, targets)\n",
    "        # Backpropagate (differentiate the parameters wrt the loss)\n",
    "        loss.backward()\n",
    "        # Step the parameters\n",
    "        optim.step()\n",
    "        # Record the loss\n",
    "        running_loss += loss.item()\n",
    "        # Record the number of correctly classified items\n",
    "        correct += (\n",
    "            (prediction.detach().argmax(dim=1) == targets.argmax(dim=1))\n",
    "            .sum()\n",
    "            .cpu()\n",
    "            .item()\n",
    "        )\n",
    "\n",
    "    mean_loss = running_loss / len(train_loader.dataset)\n",
    "    accuracy = correct / len(train_loader.dataset)\n",
    "\n",
    "    return mean_loss, accuracy\n",
    "\n",
    "\n",
    "@no_grad()\n",
    "def validate_one_epoch(\n",
    "    model: Module,\n",
    "    loss_func: BCELoss,\n",
    "    valid_loader: DataLoader,\n",
    "):\n",
    "    \"\"\"Validate single epoch.\n",
    "\n",
    "    Parameters\n",
    "    ----------\n",
    "    model : Module\n",
    "        The model to validate.\n",
    "    loss_func : BCELoss\n",
    "        Binary-cross-entropy loss function.\n",
    "    valid_loader : DataLoader\n",
    "        Validation data loader.\n",
    "\n",
    "    Returns\n",
    "    -------\n",
    "    float\n",
    "        Mean loss per item.\n",
    "    accuracy : float\n",
    "        Accuracy over the epoch.\n",
    "\n",
    "    \"\"\"\n",
    "    model.eval()\n",
    "    running_loss = 0.0\n",
    "    correct = 0\n",
    "    for batch, targets in valid_loader:\n",
    "        # Move the inputs and targets from the cpu to the gpu.\n",
    "        batch, targets = batch.float().to(DEVICE), targets.float().to(DEVICE)\n",
    "        # Predict using the batch of inputs\n",
    "        pred = model(batch).softmax(dim=1)\n",
    "        # Calculate the loss\n",
    "        loss = loss_func(pred, targets)\n",
    "        # Record the number of correctly classified items\n",
    "        correct += (pred.argmax(dim=1) == targets.argmax(dim=1)).sum().cpu().item()\n",
    "        # Record the loss\n",
    "        running_loss += loss.item()\n",
    "\n",
    "    mean_loss = running_loss / len(valid_loader.dataset)\n",
    "    accuracy = correct / len(valid_loader.dataset)\n",
    "\n",
    "    return mean_loss, accuracy"
   ]
  },
  {
   "attachments": {},
   "cell_type": "markdown",
   "metadata": {},
   "source": [
    "Now, we train!"
   ]
  },
  {
   "cell_type": "code",
   "execution_count": 56,
   "metadata": {},
   "outputs": [],
   "source": [
    "metrics = {\n",
    "    \"train_loss\": [],\n",
    "    \"valid_loss\": [],\n",
    "    \"train_acc\": [],\n",
    "    \"valid_acc\": [],\n",
    "}\n",
    "\n",
    "for epoch in range(250):\n",
    "    train_loss, train_acc = train_one_epoch(\n",
    "        model,\n",
    "        loss_func,\n",
    "        optimiser,\n",
    "        train_loader,\n",
    "    )\n",
    "    valid_loss, valid_acc = validate_one_epoch(model, loss_func, valid_loader)\n",
    "\n",
    "    metrics[\"train_loss\"].append(train_loss)\n",
    "    metrics[\"train_acc\"].append(train_acc)\n",
    "    metrics[\"valid_loss\"].append(valid_loss)\n",
    "    metrics[\"valid_acc\"].append(valid_acc)"
   ]
  },
  {
   "attachments": {},
   "cell_type": "markdown",
   "metadata": {},
   "source": [
    "Now that the model is trained, we can plot the ``metrics`` dictionary we have populated."
   ]
  },
  {
   "cell_type": "code",
   "execution_count": 57,
   "metadata": {},
   "outputs": [
    {
     "name": "stdout",
     "output_type": "stream",
     "text": [
      "     train_loss  valid_loss  train_acc  valid_acc\n",
      "0      2.166969    2.167670   0.424908   0.383333\n",
      "1      2.191075    2.067840   0.417582   0.333333\n",
      "2      2.107215    2.079085   0.399267   0.383333\n",
      "3      2.091307    2.012799   0.406593   0.416667\n",
      "4      2.012917    1.972705   0.472527   0.516667\n",
      "..          ...         ...        ...        ...\n",
      "245    0.970985    0.573543   0.838828   0.983333\n",
      "246    1.066119    0.538644   0.842491   0.983333\n",
      "247    1.030296    0.588412   0.853480   0.983333\n",
      "248    1.096516    0.548747   0.813187   0.966667\n",
      "249    0.995541    0.620299   0.831502   0.983333\n",
      "\n",
      "[250 rows x 4 columns]\n"
     ]
    },
    {
     "data": {
      "image/png": "[encoded data removed]",
      "text/plain": [
       "<Figure size 640x480 with 2 Axes>"
      ]
     },
     "metadata": {},
     "output_type": "display_data"
    }
   ],
   "source": [
    "from pandas import DataFrame\n",
    "import matplotlib.pyplot as plt\n",
    "\n",
    "\n",
    "print(DataFrame(metrics))\n",
    "\n",
    "\n",
    "figure, axes = plt.subplots(1, 2)\n",
    "axes[0].plot(metrics[\"train_loss\"], label=\"Train\")\n",
    "axes[0].plot(metrics[\"valid_loss\"], label=\"Valid\")\n",
    "\n",
    "\n",
    "axes[1].plot(metrics[\"train_acc\"], label=\"Train\")\n",
    "axes[1].plot(metrics[\"valid_acc\"], label=\"Valid\")\n",
    "\n",
    "axes[0].set_ylim(bottom=0.0)\n",
    "axes[1].set_ylim(bottom=0.5, top=1.0)\n",
    "\n",
    "axes[0].set_ylabel(\"Loss\")\n",
    "axes[1].set_ylabel(\"Classification accuracy\")\n",
    "\n",
    "\n",
    "for axis in axes.ravel():\n",
    "    axis.set_xlabel(\"Epoch\")\n",
    "    axis.set_xlim(left=0.0, right=len(metrics[\"train_acc\"]))\n",
    "    axis.set_aspect(\n",
    "        (axis.get_xlim()[1] - axis.get_xlim()[0])\n",
    "        / (axis.get_ylim()[1] - axis.get_ylim()[0])\n",
    "    )\n",
    "    axis.legend()\n",
    "\n",
    "\n",
    "figure.tight_layout()\n",
    "\n",
    "plt.show()"
   ]
  },
  {
   "attachments": {},
   "cell_type": "markdown",
   "metadata": {},
   "source": [
    "With no prior knowledge of this dataset, or the fidelity of the ground truths, this seems like more-than-reasonable performance."
   ]
  }
 ],
 "metadata": {
  "kernelspec": {
   "display_name": "torch-tools-demo",
   "language": "python",
   "name": "python3"
  },
  "language_info": {
   "codemirror_mode": {
    "name": "ipython",
    "version": 3
   },
   "file_extension": ".py",
   "mimetype": "text/x-python",
   "name": "python",
   "nbconvert_exporter": "python",
   "pygments_lexer": "ipython3",
   "version": "3.11.5"
  },
  "orig_nbformat": 4,
  "vscode": {
   "interpreter": {
    "hash": "ca0431213683a4cf4fa8a04c822ab65ef03858b4260bcbbe63868c9f59e4f0b5"
   }
  }
 },
 "nbformat": 4,
 "nbformat_minor": 2
}
